{
 "cells": [
  {
   "cell_type": "code",
   "execution_count": null,
   "id": "6ad93729",
   "metadata": {},
   "outputs": [],
   "source": [
    "import ast\n",
    "\n",
    "def get_symbols(filename):\n",
    "    with open(filename, 'r', encoding='utf-8') as f:\n",
    "        input = f.read()\n",
    "\n",
    "    full_dict = ast.literal_eval(input)\n",
    "    ticker_symbols = list(full_dict.keys())\n",
    "\n",
    "    return ticker_symbols"
   ]
  }
 ],
 "metadata": {
  "kernelspec": {
   "display_name": "catapult",
   "language": "python",
   "name": "python3"
  },
  "language_info": {
   "codemirror_mode": {
    "name": "ipython",
    "version": 3
   },
   "file_extension": ".py",
   "mimetype": "text/x-python",
   "name": "python",
   "nbconvert_exporter": "python",
   "pygments_lexer": "ipython3",
   "version": "3.12.9"
  }
 },
 "nbformat": 4,
 "nbformat_minor": 5
}
